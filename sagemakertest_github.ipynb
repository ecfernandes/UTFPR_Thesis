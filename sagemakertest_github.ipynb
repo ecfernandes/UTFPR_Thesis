{
  "nbformat": 4,
  "nbformat_minor": 0,
  "metadata": {
    "colab": {
      "name": "sagemakertest-github.ipynb",
      "provenance": [],
      "collapsed_sections": [],
      "include_colab_link": true
    },
    "kernelspec": {
      "name": "python3",
      "display_name": "Python 3"
    }
  },
  "cells": [
    {
      "cell_type": "markdown",
      "metadata": {
        "id": "view-in-github",
        "colab_type": "text"
      },
      "source": [
        "<a href=\"https://colab.research.google.com/github/ecfernandes/UTFPR_Thesis/blob/main/sagemakertest_github.ipynb\" target=\"_parent\"><img src=\"https://colab.research.google.com/assets/colab-badge.svg\" alt=\"Open In Colab\"/></a>"
      ]
    },
    {
      "cell_type": "markdown",
      "metadata": {
        "id": "Oa5mZ8_C5gCO"
      },
      "source": [
        "Apesar do nome deste algoritmo , o mesmo foi criado para análises de Classificação.\n",
        "\n",
        "pandas = biblioteca para manipulação e análise de dados https://pandas.pydata.org/\n",
        "\n",
        "Os arquivos deverão ser utilizados em extensão .csv, neste exemplo o arquivo é processado pelo link de um arquivo csv localizado no github\n",
        "\n",
        "pd.read_csv = comando para leitura de arquivos em csv\n",
        "\n",
        "nome.head() = visualização das primeiras 5 linhas do dataframe , caso for acrescentado um número dentro dos parênteses é possível reduzir ou aumentar a quantidade de linhas a serem mostradas."
      ]
    },
    {
      "cell_type": "code",
      "metadata": {
        "id": "VAPm-eA0MGHE",
        "colab": {
          "base_uri": "https://localhost:8080/",
          "height": 216
        },
        "outputId": "3a71525d-99a7-49ef-e0fc-791531055d8b"
      },
      "source": [
        "#import pandas as pd\n",
        "#link='https://raw.githubusercontent.com/ecfernandes/machinelearning/master/3_logisticregression.csv'\n",
        "#log=pd.read_csv(link)\n",
        "#log.head(2)"
      ],
      "execution_count": null,
      "outputs": [
        {
          "output_type": "execute_result",
          "data": {
            "text/html": [
              "<div>\n",
              "<style scoped>\n",
              "    .dataframe tbody tr th:only-of-type {\n",
              "        vertical-align: middle;\n",
              "    }\n",
              "\n",
              "    .dataframe tbody tr th {\n",
              "        vertical-align: top;\n",
              "    }\n",
              "\n",
              "    .dataframe thead th {\n",
              "        text-align: right;\n",
              "    }\n",
              "</style>\n",
              "<table border=\"1\" class=\"dataframe\">\n",
              "  <thead>\n",
              "    <tr style=\"text-align: right;\">\n",
              "      <th></th>\n",
              "      <th>ID</th>\n",
              "      <th>Titulo</th>\n",
              "      <th>Documentary</th>\n",
              "      <th>Sci-Fi</th>\n",
              "      <th>Mystery</th>\n",
              "      <th>Horror</th>\n",
              "      <th>Romance</th>\n",
              "      <th>Thriller</th>\n",
              "      <th>Crime</th>\n",
              "      <th>Fantasy</th>\n",
              "      <th>Comedy</th>\n",
              "      <th>Animation</th>\n",
              "      <th>Children</th>\n",
              "      <th>Drama</th>\n",
              "      <th>Adventure</th>\n",
              "      <th>Duracao</th>\n",
              "      <th>Investimento</th>\n",
              "      <th>Gostou</th>\n",
              "    </tr>\n",
              "  </thead>\n",
              "  <tbody>\n",
              "    <tr>\n",
              "      <th>0</th>\n",
              "      <td>1</td>\n",
              "      <td>Nixon (1995)</td>\n",
              "      <td>0</td>\n",
              "      <td>0</td>\n",
              "      <td>0</td>\n",
              "      <td>0</td>\n",
              "      <td>0</td>\n",
              "      <td>0</td>\n",
              "      <td>0</td>\n",
              "      <td>0</td>\n",
              "      <td>0</td>\n",
              "      <td>0</td>\n",
              "      <td>0</td>\n",
              "      <td>1</td>\n",
              "      <td>0</td>\n",
              "      <td>114.496547</td>\n",
              "      <td>7.930748</td>\n",
              "      <td>1</td>\n",
              "    </tr>\n",
              "    <tr>\n",
              "      <th>1</th>\n",
              "      <td>2</td>\n",
              "      <td>Leaving Las Vegas (1995)</td>\n",
              "      <td>0</td>\n",
              "      <td>0</td>\n",
              "      <td>0</td>\n",
              "      <td>0</td>\n",
              "      <td>1</td>\n",
              "      <td>0</td>\n",
              "      <td>0</td>\n",
              "      <td>0</td>\n",
              "      <td>0</td>\n",
              "      <td>0</td>\n",
              "      <td>0</td>\n",
              "      <td>1</td>\n",
              "      <td>0</td>\n",
              "      <td>110.140191</td>\n",
              "      <td>18.276555</td>\n",
              "      <td>1</td>\n",
              "    </tr>\n",
              "  </tbody>\n",
              "</table>\n",
              "</div>"
            ],
            "text/plain": [
              "   ID                    Titulo  Documentary  Sci-Fi  Mystery  Horror  \\\n",
              "0   1              Nixon (1995)            0       0        0       0   \n",
              "1   2  Leaving Las Vegas (1995)            0       0        0       0   \n",
              "\n",
              "   Romance  Thriller  Crime  Fantasy  Comedy  Animation  Children  Drama  \\\n",
              "0        0         0      0        0       0          0         0      1   \n",
              "1        1         0      0        0       0          0         0      1   \n",
              "\n",
              "   Adventure     Duracao  Investimento  Gostou  \n",
              "0          0  114.496547      7.930748       1  \n",
              "1          0  110.140191     18.276555       1  "
            ]
          },
          "metadata": {
            "tags": []
          },
          "execution_count": 1
        }
      ]
    },
    {
      "cell_type": "code",
      "metadata": {
        "id": "K1XNMYfgeQvp"
      },
      "source": [
        ""
      ],
      "execution_count": null,
      "outputs": []
    },
    {
      "cell_type": "code",
      "metadata": {
        "id": "QCVL9CmIeQaE"
      },
      "source": [
        "! pip install --upgrade pip\n",
        "! pip install PyAthena"
      ],
      "execution_count": null,
      "outputs": []
    },
    {
      "cell_type": "code",
      "metadata": {
        "id": "q0-PTPNneWOt"
      },
      "source": [
        "from pyathena import connect\n",
        "import pandas as pd\n",
        "import matplotlib.pyplot as plt\n",
        "import numpy as np\n",
        "\n",
        "from IPython.core.display import display, HTML\n",
        "display(HTML(\"<style>.container { width:100% !important; }</style>\"))"
      ],
      "execution_count": null,
      "outputs": []
    },
    {
      "cell_type": "code",
      "metadata": {
        "id": "Dq4NdBLWjIo5"
      },
      "source": [
        "conn = connect(s3_staging_dir='s3://sagemaker-ederson/',region_name='us-east-1')"
      ],
      "execution_count": null,
      "outputs": []
    },
    {
      "cell_type": "code",
      "metadata": {
        "id": "MCGCJzEMlLHo"
      },
      "source": [
        "log = pd.read_sql(\"SELECT * FROM vsm-database.vsm_sagemaker_ederson limit 10\", conn)\n",
        "log"
      ],
      "execution_count": null,
      "outputs": []
    },
    {
      "cell_type": "code",
      "metadata": {
        "id": "z54ZVB4Ix0j3"
      },
      "source": [
        "###SELECT * FROM \"vsm-database\".\"vsm_sagemaker_ederson\" limit 10;"
      ],
      "execution_count": null,
      "outputs": []
    },
    {
      "cell_type": "code",
      "metadata": {
        "id": "2sGUS_yNeZ3n"
      },
      "source": [
        ""
      ],
      "execution_count": null,
      "outputs": []
    },
    {
      "cell_type": "markdown",
      "metadata": {
        "id": "SSmOaIn1-OoB"
      },
      "source": [
        "Separação das colunas para análise e previsão . As primeiras 15 colunas  serão para análise e a última coluna para previsão."
      ]
    },
    {
      "cell_type": "code",
      "metadata": {
        "id": "mqKKYnFCw5ta"
      },
      "source": [
        "x=log[log.columns[2:17]]\n",
        "y=log[log.columns[17:]]\n",
        "\n",
        "\n",
        "                "
      ],
      "execution_count": null,
      "outputs": []
    },
    {
      "cell_type": "markdown",
      "metadata": {
        "id": "o64bakuv-bjb"
      },
      "source": [
        "algoritmo Counter importado da biblioteca python Collections é utilizado para contar diferentes resultados em uma coluna. Neste caso contou que na coluna \"Gostou\" possui 135 resultados \"0\" e 543 resultados\"1\" , ou seja 135 resultados  \" nao gostou\" e 543 resultados \"gostou\"  . https://docs.python.org/3/library/collections.html "
      ]
    },
    {
      "cell_type": "code",
      "metadata": {
        "id": "pL3PdkaMykrz",
        "colab": {
          "base_uri": "https://localhost:8080/",
          "height": 34
        },
        "outputId": "48a742f7-6f26-4aee-879f-e0ac9946b333"
      },
      "source": [
        "from collections import Counter\n",
        "\n",
        "Counter(log['Gostou'])\n"
      ],
      "execution_count": null,
      "outputs": [
        {
          "output_type": "execute_result",
          "data": {
            "text/plain": [
              "Counter({0: 135, 1: 543})"
            ]
          },
          "metadata": {
            "tags": []
          },
          "execution_count": 3
        }
      ]
    },
    {
      "cell_type": "markdown",
      "metadata": {
        "id": "8yfPOtZE_IM9"
      },
      "source": [
        ".shape  = chamada do método shape para análise da dimensionalidade do dataframe . https://pandas.pydata.org/pandas-docs/stable/reference/api/pandas.DataFrame.shape.html "
      ]
    },
    {
      "cell_type": "code",
      "metadata": {
        "id": "GwwajzXAy20Y",
        "colab": {
          "base_uri": "https://localhost:8080/",
          "height": 34
        },
        "outputId": "90ca0989-19e0-4922-971a-0f56d155b61c"
      },
      "source": [
        "log.shape"
      ],
      "execution_count": null,
      "outputs": [
        {
          "output_type": "execute_result",
          "data": {
            "text/plain": [
              "(678, 18)"
            ]
          },
          "metadata": {
            "tags": []
          },
          "execution_count": 4
        }
      ]
    },
    {
      "cell_type": "markdown",
      "metadata": {
        "id": "0ubs4e-w7Rg7"
      },
      "source": [
        "numpy = biblioteca para cálculos em arrays multidimensionais http://www.numpy.org/\n",
        "\n",
        "train_test_split = algoritmo que permite separar cada grupo de dados em 2 partes, uma para treinamento e outra para teste ( lembrando que as variáveis x e y foram criadas anteriormente no intuito de dividir os dados entre \"colunas de características e 1 coluna de resultado para previsão\"). Sendo assim, esta algoritmo permite que separe cerca de 70 a 80% das linhas dos dados para treinamento e 20 a 30% das linhas dos dados para testar a acurácia de previsão de resultados com bases nas características apresentadas. Esta divisão é essencial , pois é necessário testar o algoritmo com dados que o algoritmo não teve acesso, ou seja, não treinou. https://scikit-learn.org/stable/modules/generated/sklearn.model_selection.train_test_split.html\n",
        "\n",
        "SEED \n",
        "np.random.seed(SEED)  = impede a aleatoridade da análise dos dados em treinamento e teste . Pode ser utilizado qualquer número para o Seed, mas caso mude o número , os dados serão analisados em uma ordem diferente. \n",
        "https://docs.scipy.org/doc/numpy/reference/generated/numpy.random.seed.html\n",
        "\n"
      ]
    },
    {
      "cell_type": "code",
      "metadata": {
        "id": "9E17krUhzKH9",
        "colab": {
          "base_uri": "https://localhost:8080/",
          "height": 88
        },
        "outputId": "45fbe9e3-527d-4d8c-f34a-2ea1f0984136"
      },
      "source": [
        "from sklearn.model_selection import train_test_split\n",
        "import numpy as np\n",
        "SEED=404\n",
        "np.random.seed(SEED)\n",
        "\n",
        "treinox,testex,treinoy,testey=train_test_split(x,y,train_size=0.7)\n",
        "\n",
        "\n",
        "\n",
        "print('Treinamos com %d e testamos com %d' % ((len(treinox),len(testex))))\n"
      ],
      "execution_count": null,
      "outputs": [
        {
          "output_type": "stream",
          "text": [
            "Treinamos com 474 e testamos com 204\n"
          ],
          "name": "stdout"
        },
        {
          "output_type": "stream",
          "text": [
            "/usr/local/lib/python3.6/dist-packages/sklearn/model_selection/_split.py:2179: FutureWarning: From version 0.21, test_size will always complement train_size unless both are specified.\n",
            "  FutureWarning)\n"
          ],
          "name": "stderr"
        }
      ]
    },
    {
      "cell_type": "markdown",
      "metadata": {
        "id": "3MyrTzgbAW6g"
      },
      "source": [
        "np.array(treino) = conversão dos dados que se encontraram em \"dataframe\" (pandas.core.series.Series) para \" array\" (numpy.ndarray). Uma maneira de saber o tipo de classificação de cada dados será utilizar o comando\n",
        "type() , colocando entre parênteses o nome do grupo de dados ( e.g. x ,y, treinox, testey , etc)\n",
        "\n",
        "len() = contar e mostrar quantidade de linhas de dados\n",
        "\n",
        "reshape(len(),quantidade_de_colunas) = reorganiza os dados na quantidade de colunas que desejar"
      ]
    },
    {
      "cell_type": "code",
      "metadata": {
        "id": "6Uz4-KsU1FcP"
      },
      "source": [
        "\n",
        "\n",
        "treinox=np.array(treinox).reshape(len(treinox),15)\n",
        "testex=np.array(testex).reshape(len(testex),15)\n",
        "\n"
      ],
      "execution_count": null,
      "outputs": []
    },
    {
      "cell_type": "markdown",
      "metadata": {
        "id": "DShl-XXbAdRG"
      },
      "source": [
        "values.ravel = conversao dos dados para array, masse utilizado apenas para uma coluna de dados ficará mais fácil de visualizá-los .\n",
        "https://docs.scipy.org/doc/numpy-1.15.0/reference/generated/numpy.ravel.html"
      ]
    },
    {
      "cell_type": "code",
      "metadata": {
        "id": "xEUf8g5S2Zvm",
        "colab": {
          "base_uri": "https://localhost:8080/",
          "height": 187
        },
        "outputId": "23a1f551-0b8d-4532-d320-4365740baced"
      },
      "source": [
        "treinoy.values.ravel()\n",
        "testey.values.ravel()"
      ],
      "execution_count": null,
      "outputs": [
        {
          "output_type": "execute_result",
          "data": {
            "text/plain": [
              "array([1, 1, 1, 0, 1, 1, 1, 1, 1, 1, 1, 1, 1, 1, 1, 1, 0, 1, 1, 1, 1, 1,\n",
              "       1, 1, 1, 1, 0, 0, 0, 1, 1, 1, 1, 0, 1, 0, 1, 1, 1, 1, 1, 0, 1, 1,\n",
              "       1, 1, 1, 1, 1, 0, 1, 1, 0, 1, 0, 1, 1, 0, 1, 1, 1, 1, 1, 0, 1, 1,\n",
              "       1, 1, 1, 0, 0, 1, 1, 1, 1, 1, 1, 1, 0, 1, 0, 1, 1, 1, 0, 0, 1, 1,\n",
              "       1, 1, 1, 1, 1, 1, 1, 1, 1, 0, 0, 0, 1, 1, 1, 1, 1, 1, 1, 1, 1, 1,\n",
              "       0, 0, 1, 1, 1, 0, 1, 1, 1, 1, 1, 1, 1, 1, 1, 0, 1, 1, 1, 0, 0, 1,\n",
              "       1, 1, 1, 1, 1, 0, 1, 0, 1, 1, 1, 1, 1, 1, 1, 0, 1, 1, 1, 0, 1, 0,\n",
              "       0, 1, 1, 1, 0, 1, 1, 1, 1, 1, 1, 1, 0, 1, 1, 1, 1, 1, 1, 1, 0, 0,\n",
              "       1, 1, 0, 0, 1, 0, 1, 1, 1, 1, 1, 1, 1, 1, 1, 0, 1, 1, 1, 1, 1, 0,\n",
              "       1, 1, 1, 1, 1, 1])"
            ]
          },
          "metadata": {
            "tags": []
          },
          "execution_count": 7
        }
      ]
    },
    {
      "cell_type": "markdown",
      "metadata": {
        "id": "HEyOemyL6HSo"
      },
      "source": [
        "Logistic Regression = algoritmo de treinamento em análises de classificações https://scikit-learn.org/stable/modules/generated/sklearn.linear_model.LogisticRegression.html\n",
        "\n",
        "MultinomialNB = algoritmo de treinamento em análises de classificações  https://scikit-learn.org/stable/modules/generated/sklearn.naive_bayes.MultinomialNB.html\n",
        "\n",
        "AdaBoostClassifer = algoritmo de treinamento em análises de classificações https://scikit-learn.org/stable/modules/generated/sklearn.ensemble.AdaBoostClassifier.html\n",
        "\n",
        "RandomForestClassifier = algoritmo de treinamento em análises de classificações https://scikit-learn.org/stable/modules/generated/sklearn.ensemble.RandomForestClassifier.html"
      ]
    },
    {
      "cell_type": "code",
      "metadata": {
        "id": "k6ARrFyD2_8G"
      },
      "source": [
        "from sklearn.linear_model import LogisticRegression\n",
        "from sklearn.naive_bayes import MultinomialNB\n",
        "from sklearn.ensemble import AdaBoostClassifier\n",
        "from sklearn.ensemble import RandomForestClassifier\n",
        "\n"
      ],
      "execution_count": null,
      "outputs": []
    },
    {
      "cell_type": "markdown",
      "metadata": {
        "id": "p1siosYNBG2f"
      },
      "source": [
        "modelo.fit(treinox,treinoy) = comando .fit estabelece quais grupos de dados o algoritmo irá treinar"
      ]
    },
    {
      "cell_type": "code",
      "metadata": {
        "id": "RrtBAFbZ3mLs",
        "colab": {
          "base_uri": "https://localhost:8080/",
          "height": 360
        },
        "outputId": "26a777c6-af70-4828-d02b-9871764e3d5c"
      },
      "source": [
        "modelo1=LogisticRegression()\n",
        "modelo1.fit(treinox,treinoy)\n",
        "\n",
        "modelo2=MultinomialNB()\n",
        "modelo2.fit(treinox,treinoy)\n",
        "\n",
        "modelo3=AdaBoostClassifier()\n",
        "modelo3.fit(treinox,treinoy)\n",
        "\n",
        "modelo4=RandomForestClassifier()\n",
        "modelo4.fit(treinox,treinoy)"
      ],
      "execution_count": null,
      "outputs": [
        {
          "output_type": "stream",
          "text": [
            "/usr/local/lib/python3.6/dist-packages/sklearn/linear_model/logistic.py:433: FutureWarning: Default solver will be changed to 'lbfgs' in 0.22. Specify a solver to silence this warning.\n",
            "  FutureWarning)\n",
            "/usr/local/lib/python3.6/dist-packages/sklearn/utils/validation.py:761: DataConversionWarning: A column-vector y was passed when a 1d array was expected. Please change the shape of y to (n_samples, ), for example using ravel().\n",
            "  y = column_or_1d(y, warn=True)\n",
            "/usr/local/lib/python3.6/dist-packages/sklearn/utils/validation.py:761: DataConversionWarning: A column-vector y was passed when a 1d array was expected. Please change the shape of y to (n_samples, ), for example using ravel().\n",
            "  y = column_or_1d(y, warn=True)\n",
            "/usr/local/lib/python3.6/dist-packages/sklearn/utils/validation.py:761: DataConversionWarning: A column-vector y was passed when a 1d array was expected. Please change the shape of y to (n_samples, ), for example using ravel().\n",
            "  y = column_or_1d(y, warn=True)\n",
            "/usr/local/lib/python3.6/dist-packages/sklearn/ensemble/forest.py:246: FutureWarning: The default value of n_estimators will change from 10 in version 0.20 to 100 in 0.22.\n",
            "  \"10 in version 0.20 to 100 in 0.22.\", FutureWarning)\n",
            "/usr/local/lib/python3.6/dist-packages/ipykernel_launcher.py:11: DataConversionWarning: A column-vector y was passed when a 1d array was expected. Please change the shape of y to (n_samples,), for example using ravel().\n",
            "  # This is added back by InteractiveShellApp.init_path()\n"
          ],
          "name": "stderr"
        },
        {
          "output_type": "execute_result",
          "data": {
            "text/plain": [
              "RandomForestClassifier(bootstrap=True, class_weight=None, criterion='gini',\n",
              "            max_depth=None, max_features='auto', max_leaf_nodes=None,\n",
              "            min_impurity_decrease=0.0, min_impurity_split=None,\n",
              "            min_samples_leaf=1, min_samples_split=2,\n",
              "            min_weight_fraction_leaf=0.0, n_estimators=10, n_jobs=None,\n",
              "            oob_score=False, random_state=None, verbose=0,\n",
              "            warm_start=False)"
            ]
          },
          "metadata": {
            "tags": []
          },
          "execution_count": 9
        }
      ]
    },
    {
      "cell_type": "markdown",
      "metadata": {
        "id": "bOOZUKOFBsgA"
      },
      "source": [
        "modelo.predict = método para prever qual (quais) o dado(s) correspondente(s) da coluna y em relação a um valor x . Quanto mais dados (característiicas ) forem utilizadas para o treino, maior será a acurácia da resposta prevista pelo método. Atenção que ao digitar o valor dentro dos parênteses deverá ser utilizado duplo colchetes devido a estrutura do array criada anteriormente."
      ]
    },
    {
      "cell_type": "code",
      "metadata": {
        "id": "sBcatCvn4Rmw"
      },
      "source": [
        "previsao1=modelo1.predict(testex)\n",
        "previsao2=modelo2.predict(testex)\n",
        "previsao3=modelo3.predict(testex)\n",
        "previsao4=modelo4.predict(testex)"
      ],
      "execution_count": null,
      "outputs": []
    },
    {
      "cell_type": "markdown",
      "metadata": {
        "id": "0j42WkZB5-9g"
      },
      "source": [
        "Accuracy_score = algorimo para análise da taxa de acerto da previsão efetuada em relação ao valores corretos https://scikit-learn.org/stable/modules/generated/sklearn.metrics.accuracy_score.html"
      ]
    },
    {
      "cell_type": "code",
      "metadata": {
        "id": "H3hVVbGi43TG"
      },
      "source": [
        "from sklearn.metrics import accuracy_score\n",
        "ac1=accuracy_score(testey,previsao1)*100\n",
        "ac2=accuracy_score(testey,previsao2)*100\n",
        "ac3=accuracy_score(testey,previsao3)*100\n",
        "ac4=accuracy_score(testey,previsao4)*100\n"
      ],
      "execution_count": null,
      "outputs": []
    },
    {
      "cell_type": "code",
      "metadata": {
        "id": "WXs57o1OB8UL",
        "colab": {
          "base_uri": "https://localhost:8080/",
          "height": 34
        },
        "outputId": "4d3aaabf-34e4-4899-dcfd-f65ec4b07ee3"
      },
      "source": [
        "print(\"As acuracias  são = LogisticRegresion : %.2f , MultinomialNB: %.2f , AdaBoostClassifier: %.2f , RandomForestClassifier: %.2f\"  % (ac1,ac2,ac3,ac4))"
      ],
      "execution_count": null,
      "outputs": [
        {
          "output_type": "stream",
          "text": [
            "As acuracias  são = LogisticRegresion : 77.45 , MultinomialNB: 78.43 , AdaBoostClassifier: 73.53 , RandomForestClassifier: 71.57\n"
          ],
          "name": "stdout"
        }
      ]
    }
  ]
}